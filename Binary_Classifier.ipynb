{
 "cells": [
  {
   "cell_type": "markdown",
   "metadata": {},
   "source": [
    "# Binaryclassifier for prediction of Match-winner using Logistic Regression."
   ]
  },
  {
   "cell_type": "markdown",
   "metadata": {},
   "source": [
    "## Model Selection\n"
   ]
  },
  {
   "cell_type": "markdown",
   "metadata": {},
   "source": [
    "The model is selected based on the factors considering the complexity and also the computation time. \n",
    "    Logistic Regression preforms good on dataset containing fewer amount of samples and less number of feature sets compared to that of the other classfier.  "
   ]
  },
  {
   "cell_type": "markdown",
   "metadata": {},
   "source": [
    "import the libraries required to design the classifier."
   ]
  },
  {
   "cell_type": "code",
   "execution_count": 11,
   "metadata": {
    "collapsed": false
   },
   "outputs": [],
   "source": [
    "%matplotlib inline\n",
    "import numpy as np\n",
    "import pandas as pd\n",
    "from sklearn.decomposition import PCA\n",
    "import pandas as pd\n",
    "import matplotlib.pyplot as plt\n",
    "from sklearn.preprocessing import scale\n",
    "from sklearn.metrics import accuracy_score,classification_report,roc_curve, auc\n",
    "from sklearn import linear_model,metrics"
   ]
  },
  {
   "cell_type": "markdown",
   "metadata": {
    "collapsed": true
   },
   "source": [
    "Dataset Preprocessing\n",
    "=======================================\n",
    "\n",
    "The dataset consists of the 28 featurs as the input and the output as binary values assigned predicting the winner of the match based on these feature set. The values are assigned as team 1=1 and team 2=0 for the winning team. The dataset preprocessing for this problem statement is as follows:\n",
    "        1. Load the Data\n",
    "        2. Extract the features  (Neglect less contributing factors)\n",
    "        3. Feature slection using PCA\n",
    "        4. Class_weight vector calculation based on the occurance of each example in the dataset."
   ]
  },
  {
   "cell_type": "markdown",
   "metadata": {},
   "source": [
    "1.Loading the Dataset"
   ]
  },
  {
   "cell_type": "code",
   "execution_count": 2,
   "metadata": {
    "collapsed": true
   },
   "outputs": [],
   "source": [
    "Train_data = pd.read_csv('/home/manoj/Downloads/train.csv - train.csv.csv')\n",
    "Test_data = pd.read_csv('/home/manoj/Downloads/test.csv')"
   ]
  },
  {
   "cell_type": "markdown",
   "metadata": {},
   "source": [
    "2.Extract the features  (Neglect less contributing factors)\n",
    "The datamine function takes input as the data_path and reutrns the features set and the labels.The following conditions and modifications are applied to the dataset.\n",
    "    1. Team1 is set to the value 1 and Team2 is set to the value 0\n",
    "As the model learns accordingly to the feature set and all the examples are assigned accordingly, it is valid to assign the values.\n",
    "    2. City values are assigned accordingly to that of the team factor.\n",
    "assuming that the home match favours the home team the values are assigned accordingly t that of home ground and some venues are away match for both the playing team in that case the value is assigned to -1.\n",
    "    3. Time and date factors are neglected assuming that there is not much variance in the feature. \n",
    "   \n",
    "    "
   ]
  },
  {
   "cell_type": "code",
   "execution_count": 3,
   "metadata": {
    "collapsed": true
   },
   "outputs": [],
   "source": [
    "def datamine(data_path):\n",
    "    df = pd.DataFrame(data_path)\n",
    "    labels = df['Winner (team 1=1, team 2=0)']\n",
    "    Team1 = df.ix[:,1]\n",
    "    Team2 = df.ix[:, 2]\n",
    "    city = df.ix[:, 3]\n",
    "    value = np.zeros((len(Team1),1))\n",
    "    for i in range(0,len(Team1)):\n",
    "        if city[i] in Team1[i]:\n",
    "            value[i] = 1\n",
    "        elif city[i] in Team2[i]:\n",
    "            value[i] = 0\n",
    "        else:\n",
    "            value[i] = -1\n",
    "\n",
    "    value1 = np.ones((len(Team1),1))\n",
    "    value2 = np.zeros((len(Team1),1))\n",
    "    value3 = df.ix[:,4:29]\n",
    "    value3 = np.concatenate((value1,value2,value,value3),axis=1)\n",
    "    value3 = np.delete(value3,[4,5],1)\n",
    "    return value3,labels"
   ]
  },
  {
   "cell_type": "markdown",
   "metadata": {},
   "source": [
    "3.Dimension Reduction Using Principle Component Analysis\n",
    "Considering all the features set initially, doing PCA and then finding the variance plot for the set. Further on observing the variance plot we can see that 99.4 of the data varince can be observed in 23-24 features axis. So further reducing the dataset to 23 axis."
   ]
  },
  {
   "cell_type": "code",
   "execution_count": 4,
   "metadata": {
    "collapsed": true
   },
   "outputs": [],
   "source": [
    "def PCA_ext_feature(data_input,nn_components,Transform = False):\n",
    "    if Transform:\n",
    "        pca = PCA(n_components=nn_components)\n",
    "        pca.fit(data_input)\n",
    "        X1 = pca.fit_transform(data_input)\n",
    "        return X1\n",
    "\n",
    "    else :\n",
    "        pca = PCA(n_components=nn_components)\n",
    "        pca.fit(data_input)\n",
    "        var = pca.explained_variance_ratio_\n",
    "        var1 = np.cumsum(np.round(pca.explained_variance_ratio_, decimals=4) * 100)\n",
    "        print var1\n",
    "        plt.plot(var1)\n"
   ]
  },
  {
   "cell_type": "markdown",
   "metadata": {},
   "source": [
    "Assigning the values using the above functions."
   ]
  },
  {
   "cell_type": "code",
   "execution_count": 5,
   "metadata": {
    "collapsed": false
   },
   "outputs": [
    {
     "name": "stdout",
     "output_type": "stream",
     "text": [
      "[  19.54   28.6    36.3    42.76   48.3    53.74   58.73   63.56   67.76\n",
      "   71.93   75.58   78.47   81.36   84.15   86.81   89.05   90.96   92.81\n",
      "   94.54   96.05   97.43   98.46   99.4   100.03  100.03  100.03]\n",
      "252\n"
     ]
    },
    {
     "name": "stderr",
     "output_type": "stream",
     "text": [
      "/usr/local/lib/python2.7/dist-packages/sklearn/utils/validation.py:429: DataConversionWarning: Data with input dtype object was converted to float64 by the scale function.\n",
      "  warnings.warn(msg, _DataConversionWarning)\n"
     ]
    },
    {
     "data": {
      "image/png": "[encoded data removed]",
      "text/plain": [
       "<matplotlib.figure.Figure at 0x7f47b76d62d0>"
      ]
     },
     "metadata": {},
     "output_type": "display_data"
    }
   ],
   "source": [
    "[X_train,labels_train] = datamine(data_path=Train_data)\n",
    "X_train = scale(X_train)\n",
    "PCA_ext_feature(data_input=X_train,nn_components=26)\n",
    "X_train1 = PCA_ext_feature(data_input=X_train,nn_components=23,Transform=True)\n",
    "print len(labels_train)"
   ]
  },
  {
   "cell_type": "code",
   "execution_count": 6,
   "metadata": {
    "collapsed": false
   },
   "outputs": [],
   "source": [
    "X_train = X_train1[0:200,:]\n",
    "X_val = X_train1[201:252,:]\n",
    "Y_train = labels_train[0:200]\n",
    "Y_val = labels_train[201:252]"
   ]
  },
  {
   "cell_type": "markdown",
   "metadata": {},
   "source": [
    "4.Calculating the Class_Weight factor for weight calibration.\n",
    "   \n",
    "   \n",
    "   The “balanced” mode uses the values of y to automatically adjust weights inversely proportional to class frequencies in the input data as \n",
    "       \n",
    "       n_samples / (n_classes * np.bincount(y))."
   ]
  },
  {
   "cell_type": "markdown",
   "metadata": {
    "collapsed": true
   },
   "source": [
    "Classifier Modelling\n",
    "=======================================\n",
    "\n",
    "The logisitic Regression classifier Model is used to train the dataset for classification, The parameters considered are C(Regularisation factor) where smaller the value, gives stronger regularisation. Number of iterations and class_weight factor for smooth modelling of dataset. "
   ]
  },
  {
   "cell_type": "code",
   "execution_count": 7,
   "metadata": {
    "collapsed": false
   },
   "outputs": [],
   "source": [
    "logreg = linear_model.LogisticRegression(C=1e-4,max_iter=400,class_weight='balanced')\n",
    "logreg.fit(X_train,Y_train)\n",
    "Y_pred = logreg.predict(X_val)"
   ]
  },
  {
   "cell_type": "markdown",
   "metadata": {},
   "source": [
    "Receiver Operating Characteristic (ROC)\n",
    "=======================================\n",
    "\n",
    "Receiver Operating Characteristic (ROC) metric to evaluate\n",
    "classifier output quality.\n",
    "\n",
    "ROC curves typically feature true positive rate on the Y axis, and false\n",
    "positive rate on the X axis. This means that the top left corner of the plot is\n",
    "the \"ideal\" point - a false positive rate of zero, and a true positive rate of\n",
    "one. This is not very realistic, but it does mean that a larger area under the\n",
    "curve (AUC) is usually better.\n",
    "\n",
    "The \"steepness\" of ROC curves is also important, since it is ideal to maximize\n",
    "the true positive rate while minimizing the false positive rate.\n"
   ]
  },
  {
   "cell_type": "code",
   "execution_count": 8,
   "metadata": {
    "collapsed": false
   },
   "outputs": [
    {
     "data": {
      "image/png": "[encoded data removed]",
      "text/plain": [
       "<matplotlib.figure.Figure at 0x7f47e97fbd90>"
      ]
     },
     "metadata": {},
     "output_type": "display_data"
    }
   ],
   "source": [
    "fpr, tpr, threshold = metrics.roc_curve(Y_val, Y_pred)\n",
    "roc_auc = metrics.auc(fpr, tpr)\n",
    "plt.title('Receiver Operating Characteristic')\n",
    "plt.plot(fpr, tpr, 'b', label = 'AUC = %0.2f' % roc_auc)\n",
    "plt.legend(loc = 'lower right')\n",
    "plt.plot([0, 1], [0, 1],'r--')\n",
    "plt.xlim([0, 1])\n",
    "plt.ylim([0, 1])\n",
    "plt.ylabel('True Positive Rate')\n",
    "plt.xlabel('False Positive Rate')\n",
    "plt.show()"
   ]
  },
  {
   "cell_type": "markdown",
   "metadata": {
    "collapsed": false
   },
   "source": [
    "Accuracy Analysis\n",
    "=======================================\n",
    "\n",
    "Calculating the accuracy score and also the sensitivity and selectivity of the trained model."
   ]
  },
  {
   "cell_type": "code",
   "execution_count": 9,
   "metadata": {
    "collapsed": false
   },
   "outputs": [
    {
     "name": "stdout",
     "output_type": "stream",
     "text": [
      "Confusion Matrix\n",
      "                precision    recall  f1-score   support\n",
      "\n",
      "class negative       1.00      0.88      0.94        26\n",
      "class positive       0.89      1.00      0.94        25\n",
      "\n",
      "   avg / total       0.95      0.94      0.94        51\n",
      "\n",
      "Accuracy is: 94.1%\n"
     ]
    }
   ],
   "source": [
    "accuracy_score(Y_val, Y_pred)\n",
    "target_names = ['class negative', 'class positive']\n",
    "print \"Confusion Matrix\"\n",
    "print(classification_report(Y_val, Y_pred, target_names=target_names))\n",
    "score = accuracy_score(Y_val, Y_pred)\n",
    "print(\n",
    "        \"Accuracy is: %.1f%%\" %\n",
    "        (score* 100)\n",
    "    )"
   ]
  },
  {
   "cell_type": "markdown",
   "metadata": {
    "collapsed": true
   },
   "source": [
    "Model Implementation\n",
    "=======================================\n",
    "\n",
    "Predicting the ouput on the testset. "
   ]
  },
  {
   "cell_type": "code",
   "execution_count": 10,
   "metadata": {
    "collapsed": false
   },
   "outputs": [
    {
     "name": "stdout",
     "output_type": "stream",
     "text": [
      "[1 0 0 1 0 1 1 1 0 1 0 0 1 0 1 1 0 0 0 1 0 0 1 0 1 0 0 0 0 1 0 0 1 0 0 1 1\n",
      " 0 0 0 1 1 1 1 0 0 1 1 1 1 1 0 1 0 1 1 1 1 0 1 1 1 0 1 1 0 1 0 1 0 1 1 0 1\n",
      " 1 1]\n"
     ]
    }
   ],
   "source": [
    "[X_test,labels_test] = datamine(data_path=Test_data)\n",
    "X_test = scale(X_test)\n",
    "X_test = PCA_ext_feature(data_input=X_test,nn_components=23,Transform=True)\n",
    "Y_test = logreg.predict(X_test)\n",
    "print Y_test"
   ]
  }
 ],
 "metadata": {
  "kernelspec": {
   "display_name": "Python 2",
   "language": "python",
   "name": "python2"
  },
  "language_info": {
   "codemirror_mode": {
    "name": "ipython",
    "version": 2
   },
   "file_extension": ".py",
   "mimetype": "text/x-python",
   "name": "python",
   "nbconvert_exporter": "python",
   "pygments_lexer": "ipython2",
   "version": "2.7.6"
  }
 },
 "nbformat": 4,
 "nbformat_minor": 1
}
